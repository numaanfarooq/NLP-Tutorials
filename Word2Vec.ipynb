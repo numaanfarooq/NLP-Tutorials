{
 "cells": [
  {
   "cell_type": "markdown",
   "id": "047ef91c",
   "metadata": {},
   "source": [
    "\n",
    "# Word2Vec "
   ]
  },
  {
   "cell_type": "markdown",
   "id": "df004802",
   "metadata": {},
   "source": [
    "Continuous Bag Of Words(CWow)\n"
   ]
  },
  {
   "cell_type": "code",
   "execution_count": 2,
   "id": "720157f8",
   "metadata": {},
   "outputs": [],
   "source": [
    "from gensim.models import Word2Vec\n",
    "from nltk.tokenize import word_tokenize\n",
    "from nltk.corpus import stopwords\n",
    "import string"
   ]
  },
  {
   "cell_type": "code",
   "execution_count": 3,
   "id": "b33f426a",
   "metadata": {},
   "outputs": [],
   "source": [
    "text_data = \"\"\"\n",
    "The brown girls are usually traditional and conncected to the roots and thsoe who are not suffer in the society.\n",
    "We need to understand that the girls are not the properties of men.\n",
    "Brown girls need to understand the real life and the real happiness.\n",
    "At last I would like to say is that the brown girls rock\n",
    "\"\"\""
   ]
  },
  {
   "cell_type": "code",
   "execution_count": 5,
   "id": "4a723da0",
   "metadata": {},
   "outputs": [],
   "source": [
    "#Pre Processing\n",
    "stop_words= set(stopwords.words('english'))\n",
    "translater= str.maketrans(\"\", \"\", string.punctuation)"
   ]
  },
  {
   "cell_type": "code",
   "execution_count": null,
   "id": "4ea5b49c",
   "metadata": {},
   "outputs": [],
   "source": []
  }
 ],
 "metadata": {
  "kernelspec": {
   "display_name": "Python 3 (ipykernel)",
   "language": "python",
   "name": "python3"
  },
  "language_info": {
   "codemirror_mode": {
    "name": "ipython",
    "version": 3
   },
   "file_extension": ".py",
   "mimetype": "text/x-python",
   "name": "python",
   "nbconvert_exporter": "python",
   "pygments_lexer": "ipython3",
   "version": "3.11.5"
  }
 },
 "nbformat": 4,
 "nbformat_minor": 5
}
