{
 "cells": [
  {
   "cell_type": "code",
   "execution_count": 1,
   "id": "74e7f1c5",
   "metadata": {},
   "outputs": [
    {
     "name": "stdout",
     "output_type": "stream",
     "text": [
      "Requirement already satisfied: nltk in c:\\users\\ossum\\anaconda3\\lib\\site-packages (3.8.1)Note: you may need to restart the kernel to use updated packages.\n",
      "\n",
      "Requirement already satisfied: click in c:\\users\\ossum\\anaconda3\\lib\\site-packages (from nltk) (8.0.4)\n",
      "Requirement already satisfied: joblib in c:\\users\\ossum\\anaconda3\\lib\\site-packages (from nltk) (1.1.1)\n",
      "Requirement already satisfied: regex>=2021.8.3 in c:\\users\\ossum\\anaconda3\\lib\\site-packages (from nltk) (2022.7.9)\n",
      "Requirement already satisfied: tqdm in c:\\users\\ossum\\anaconda3\\lib\\site-packages (from nltk) (4.65.0)\n",
      "Requirement already satisfied: colorama in c:\\users\\ossum\\anaconda3\\lib\\site-packages (from click->nltk) (0.4.6)\n"
     ]
    }
   ],
   "source": [
    "pip install nltk"
   ]
  },
  {
   "cell_type": "code",
   "execution_count": 2,
   "id": "7a73c72e",
   "metadata": {},
   "outputs": [],
   "source": [
    "paragraph=\"\"\"\n",
    "Ravish Kumar (born Ravish Kumar Pandey; 5 December 1974)[1][2] is an Indian journalist, author, media personality and Youtuber.[3][4] He was the Senior Executive Editor of NDTV India. He hosted a number of programmes including the channel's flagship weekday show Prime Time, Hum Log, Ravish Ki Report, and Des Ki Baat.[5][6][7]\n",
    "\n",
    "Kumar has twice been conferred with Ramnath Goenka Excellence in Journalism Award for the Best Journalist of the Year and became the fifth Indian journalist to receive the Ramon Magsaysay Award in 2019.[8][9]\n",
    "\n",
    "Early life and education\n",
    "Kumar was born on 5 December 1974 in Jitwarpur village in East Champaran district of Bihar,[10][11] to Baliram Pandey and Yashoda Pandey.[12] He obtained his high school education from Loyola High School, Patna. Later he moved to Delhi for higher studies. He graduated from Deshbandhu College, affiliated with the University of Delhi.[12] Eventually he enrolled in post-graduate diploma in Hindi Journalism from the Indian Institute of Mass Communication.[12][13]\n",
    "\"\"\""
   ]
  },
  {
   "cell_type": "code",
   "execution_count": 3,
   "id": "6bd58e5e",
   "metadata": {},
   "outputs": [
    {
     "data": {
      "text/plain": [
       "\"\\nRavish Kumar (born Ravish Kumar Pandey; 5 December 1974)[1][2] is an Indian journalist, author, media personality and Youtuber.[3][4] He was the Senior Executive Editor of NDTV India. He hosted a number of programmes including the channel's flagship weekday show Prime Time, Hum Log, Ravish Ki Report, and Des Ki Baat.[5][6][7]\\n\\nKumar has twice been conferred with Ramnath Goenka Excellence in Journalism Award for the Best Journalist of the Year and became the fifth Indian journalist to receive the Ramon Magsaysay Award in 2019.[8][9]\\n\\nEarly life and education\\nKumar was born on 5 December 1974 in Jitwarpur village in East Champaran district of Bihar,[10][11] to Baliram Pandey and Yashoda Pandey.[12] He obtained his high school education from Loyola High School, Patna. Later he moved to Delhi for higher studies. He graduated from Deshbandhu College, affiliated with the University of Delhi.[12] Eventually he enrolled in post-graduate diploma in Hindi Journalism from the Indian Institute of Mass Communication.[12][13]\\n\""
      ]
     },
     "execution_count": 3,
     "metadata": {},
     "output_type": "execute_result"
    }
   ],
   "source": [
    "paragraph"
   ]
  },
  {
   "cell_type": "code",
   "execution_count": 6,
   "id": "75321b61",
   "metadata": {},
   "outputs": [
    {
     "name": "stderr",
     "output_type": "stream",
     "text": [
      "[nltk_data] Downloading package punkt to\n",
      "[nltk_data]     C:\\Users\\ossum\\AppData\\Roaming\\nltk_data...\n",
      "[nltk_data]   Package punkt is already up-to-date!\n"
     ]
    },
    {
     "data": {
      "text/plain": [
       "True"
      ]
     },
     "execution_count": 6,
     "metadata": {},
     "output_type": "execute_result"
    }
   ],
   "source": [
    "import nltk\n",
    "from nltk.tokenize import word_tokenize, sent_tokenize\n",
    "\n",
    "nltk.download('punkt')\n",
    "\n"
   ]
  },
  {
   "cell_type": "code",
   "execution_count": 8,
   "id": "4456e9a8",
   "metadata": {},
   "outputs": [],
   "source": [
    "sentences = sent_tokenize(paragraph)\n",
    "words = word_tokenize(paragraph)"
   ]
  },
  {
   "cell_type": "code",
   "execution_count": 9,
   "id": "61fd79ce",
   "metadata": {},
   "outputs": [
    {
     "name": "stdout",
     "output_type": "stream",
     "text": [
      "Sentences: ['\\nRavish Kumar (born Ravish Kumar Pandey; 5 December 1974)[1][2] is an Indian journalist, author, media personality and Youtuber.', '[3][4] He was the Senior Executive Editor of NDTV India.', \"He hosted a number of programmes including the channel's flagship weekday show Prime Time, Hum Log, Ravish Ki Report, and Des Ki Baat.\", '[5][6][7]\\n\\nKumar has twice been conferred with Ramnath Goenka Excellence in Journalism Award for the Best Journalist of the Year and became the fifth Indian journalist to receive the Ramon Magsaysay Award in 2019.', '[8][9]\\n\\nEarly life and education\\nKumar was born on 5 December 1974 in Jitwarpur village in East Champaran district of Bihar,[10][11] to Baliram Pandey and Yashoda Pandey.', '[12] He obtained his high school education from Loyola High School, Patna.', 'Later he moved to Delhi for higher studies.', 'He graduated from Deshbandhu College, affiliated with the University of Delhi.', '[12] Eventually he enrolled in post-graduate diploma in Hindi Journalism from the Indian Institute of Mass Communication.', '[12][13]']\n",
      "Words: ['Ravish', 'Kumar', '(', 'born', 'Ravish', 'Kumar', 'Pandey', ';', '5', 'December', '1974', ')', '[', '1', ']', '[', '2', ']', 'is', 'an', 'Indian', 'journalist', ',', 'author', ',', 'media', 'personality', 'and', 'Youtuber', '.', '[', '3', ']', '[', '4', ']', 'He', 'was', 'the', 'Senior', 'Executive', 'Editor', 'of', 'NDTV', 'India', '.', 'He', 'hosted', 'a', 'number', 'of', 'programmes', 'including', 'the', 'channel', \"'s\", 'flagship', 'weekday', 'show', 'Prime', 'Time', ',', 'Hum', 'Log', ',', 'Ravish', 'Ki', 'Report', ',', 'and', 'Des', 'Ki', 'Baat', '.', '[', '5', ']', '[', '6', ']', '[', '7', ']', 'Kumar', 'has', 'twice', 'been', 'conferred', 'with', 'Ramnath', 'Goenka', 'Excellence', 'in', 'Journalism', 'Award', 'for', 'the', 'Best', 'Journalist', 'of', 'the', 'Year', 'and', 'became', 'the', 'fifth', 'Indian', 'journalist', 'to', 'receive', 'the', 'Ramon', 'Magsaysay', 'Award', 'in', '2019', '.', '[', '8', ']', '[', '9', ']', 'Early', 'life', 'and', 'education', 'Kumar', 'was', 'born', 'on', '5', 'December', '1974', 'in', 'Jitwarpur', 'village', 'in', 'East', 'Champaran', 'district', 'of', 'Bihar', ',', '[', '10', ']', '[', '11', ']', 'to', 'Baliram', 'Pandey', 'and', 'Yashoda', 'Pandey', '.', '[', '12', ']', 'He', 'obtained', 'his', 'high', 'school', 'education', 'from', 'Loyola', 'High', 'School', ',', 'Patna', '.', 'Later', 'he', 'moved', 'to', 'Delhi', 'for', 'higher', 'studies', '.', 'He', 'graduated', 'from', 'Deshbandhu', 'College', ',', 'affiliated', 'with', 'the', 'University', 'of', 'Delhi', '.', '[', '12', ']', 'Eventually', 'he', 'enrolled', 'in', 'post-graduate', 'diploma', 'in', 'Hindi', 'Journalism', 'from', 'the', 'Indian', 'Institute', 'of', 'Mass', 'Communication', '.', '[', '12', ']', '[', '13', ']']\n"
     ]
    }
   ],
   "source": [
    "print(\"Sentences:\", sentences)\n",
    "print(\"Words:\", words)"
   ]
  },
  {
   "cell_type": "code",
   "execution_count": 10,
   "id": "dec0a9d6",
   "metadata": {},
   "outputs": [
    {
     "name": "stdout",
     "output_type": "stream",
     "text": [
      "Normalized Text: \n",
      "ravish kumar born ravish kumar pandey 5 december 197412 is an indian journalist author media personality and youtuber34 he was the senior executive editor of ndtv india he hosted a number of programmes including the channels flagship weekday show prime time hum log ravish ki report and des ki baat567\n",
      "\n",
      "kumar has twice been conferred with ramnath goenka excellence in journalism award for the best journalist of the year and became the fifth indian journalist to receive the ramon magsaysay award in 201989\n",
      "\n",
      "early life and education\n",
      "kumar was born on 5 december 1974 in jitwarpur village in east champaran district of bihar1011 to baliram pandey and yashoda pandey12 he obtained his high school education from loyola high school patna later he moved to delhi for higher studies he graduated from deshbandhu college affiliated with the university of delhi12 eventually he enrolled in postgraduate diploma in hindi journalism from the indian institute of mass communication1213\n",
      "\n"
     ]
    }
   ],
   "source": [
    "#Lets now normalize the text - ie conversion to lowercase and remove punctuation\n",
    "import re\n",
    "\n",
    "normalized_text = paragraph.lower()\n",
    "normalized_text= re.sub(r'[^\\w\\s]', '', normalized_text)\n",
    "\n",
    "print(\"Normalized Text:\", normalized_text)"
   ]
  },
  {
   "cell_type": "code",
   "execution_count": 11,
   "id": "9d250cfc",
   "metadata": {},
   "outputs": [
    {
     "name": "stdout",
     "output_type": "stream",
     "text": [
      "Filtered Words: ['ravish', 'kumar', 'born', 'ravish', 'kumar', 'pandey', '5', 'december', '197412', 'indian', 'journalist', 'author', 'media', 'personality', 'youtuber34', 'senior', 'executive', 'editor', 'ndtv', 'india', 'hosted', 'number', 'programmes', 'including', 'channels', 'flagship', 'weekday', 'show', 'prime', 'time', 'hum', 'log', 'ravish', 'ki', 'report', 'des', 'ki', 'baat567', 'kumar', 'twice', 'conferred', 'ramnath', 'goenka', 'excellence', 'journalism', 'award', 'best', 'journalist', 'year', 'became', 'fifth', 'indian', 'journalist', 'receive', 'ramon', 'magsaysay', 'award', '201989', 'early', 'life', 'education', 'kumar', 'born', '5', 'december', '1974', 'jitwarpur', 'village', 'east', 'champaran', 'district', 'bihar1011', 'baliram', 'pandey', 'yashoda', 'pandey12', 'obtained', 'high', 'school', 'education', 'loyola', 'high', 'school', 'patna', 'later', 'moved', 'delhi', 'higher', 'studies', 'graduated', 'deshbandhu', 'college', 'affiliated', 'university', 'delhi12', 'eventually', 'enrolled', 'postgraduate', 'diploma', 'hindi', 'journalism', 'indian', 'institute', 'mass', 'communication1213']\n"
     ]
    },
    {
     "name": "stderr",
     "output_type": "stream",
     "text": [
      "[nltk_data] Downloading package stopwords to\n",
      "[nltk_data]     C:\\Users\\ossum\\AppData\\Roaming\\nltk_data...\n",
      "[nltk_data]   Package stopwords is already up-to-date!\n"
     ]
    }
   ],
   "source": [
    "#Stop words remover\n",
    "from nltk.corpus import stopwords\n",
    "\n",
    "nltk.download('stopwords')\n",
    "stop_words = set(stopwords.words('english'))\n",
    "words= word_tokenize(normalized_text)\n",
    "filered_words =[word for word in words if word not in stop_words]\n",
    "\n",
    "print(\"Filtered Words:\", filered_words)"
   ]
  },
  {
   "cell_type": "code",
   "execution_count": 13,
   "id": "052fb3b6",
   "metadata": {},
   "outputs": [
    {
     "name": "stderr",
     "output_type": "stream",
     "text": [
      "[nltk_data] Downloading package wordnet to\n",
      "[nltk_data]     C:\\Users\\ossum\\AppData\\Roaming\\nltk_data...\n",
      "[nltk_data]   Package wordnet is already up-to-date!\n"
     ]
    }
   ],
   "source": [
    "#Stemming\n",
    "from nltk.stem import PorterStemmer, WordNetLemmatizer\n",
    "\n",
    "nltk.download('wordnet')\n",
    "\n",
    "stemmer = PorterStemmer()\n",
    "lemmatizer = WordNetLemmatizer()"
   ]
  },
  {
   "cell_type": "code",
   "execution_count": 14,
   "id": "ac0ae4c9",
   "metadata": {},
   "outputs": [
    {
     "name": "stdout",
     "output_type": "stream",
     "text": [
      "Stemmed Words: ['ravish', 'kumar', 'born', 'ravish', 'kumar', 'pandey', '5', 'decemb', '197412', 'indian', 'journalist', 'author', 'media', 'person', 'youtuber34', 'senior', 'execut', 'editor', 'ndtv', 'india', 'host', 'number', 'programm', 'includ', 'channel', 'flagship', 'weekday', 'show', 'prime', 'time', 'hum', 'log', 'ravish', 'ki', 'report', 'de', 'ki', 'baat567', 'kumar', 'twice', 'confer', 'ramnath', 'goenka', 'excel', 'journal', 'award', 'best', 'journalist', 'year', 'becam', 'fifth', 'indian', 'journalist', 'receiv', 'ramon', 'magsaysay', 'award', '201989', 'earli', 'life', 'educ', 'kumar', 'born', '5', 'decemb', '1974', 'jitwarpur', 'villag', 'east', 'champaran', 'district', 'bihar1011', 'baliram', 'pandey', 'yashoda', 'pandey12', 'obtain', 'high', 'school', 'educ', 'loyola', 'high', 'school', 'patna', 'later', 'move', 'delhi', 'higher', 'studi', 'graduat', 'deshbandhu', 'colleg', 'affili', 'univers', 'delhi12', 'eventu', 'enrol', 'postgradu', 'diploma', 'hindi', 'journal', 'indian', 'institut', 'mass', 'communication1213']\n",
      "Lemmatized Words: ['ravish', 'kumar', 'born', 'ravish', 'kumar', 'pandey', '5', 'december', '197412', 'indian', 'journalist', 'author', 'medium', 'personality', 'youtuber34', 'senior', 'executive', 'editor', 'ndtv', 'india', 'hosted', 'number', 'programme', 'including', 'channel', 'flagship', 'weekday', 'show', 'prime', 'time', 'hum', 'log', 'ravish', 'ki', 'report', 'de', 'ki', 'baat567', 'kumar', 'twice', 'conferred', 'ramnath', 'goenka', 'excellence', 'journalism', 'award', 'best', 'journalist', 'year', 'became', 'fifth', 'indian', 'journalist', 'receive', 'ramon', 'magsaysay', 'award', '201989', 'early', 'life', 'education', 'kumar', 'born', '5', 'december', '1974', 'jitwarpur', 'village', 'east', 'champaran', 'district', 'bihar1011', 'baliram', 'pandey', 'yashoda', 'pandey12', 'obtained', 'high', 'school', 'education', 'loyola', 'high', 'school', 'patna', 'later', 'moved', 'delhi', 'higher', 'study', 'graduated', 'deshbandhu', 'college', 'affiliated', 'university', 'delhi12', 'eventually', 'enrolled', 'postgraduate', 'diploma', 'hindi', 'journalism', 'indian', 'institute', 'mass', 'communication1213']\n"
     ]
    }
   ],
   "source": [
    "stemmed_words = [stemmer.stem(word) for word in filered_words]\n",
    "lemmatized_words = [lemmatizer.lemmatize(word) for word in filered_words]\n",
    "\n",
    "print(\"Stemmed Words:\", stemmed_words)\n",
    "print(\"Lemmatized Words:\", lemmatized_words)"
   ]
  },
  {
   "cell_type": "code",
   "execution_count": 16,
   "id": "82a30666",
   "metadata": {},
   "outputs": [],
   "source": [
    "#Bag of words\n",
    "from sklearn.feature_extraction.text import CountVectorizer"
   ]
  },
  {
   "cell_type": "code",
   "execution_count": 45,
   "id": "2e147d98",
   "metadata": {},
   "outputs": [],
   "source": [
    "CV= CountVectorizer()"
   ]
  },
  {
   "cell_type": "code",
   "execution_count": 46,
   "id": "395d9ba8",
   "metadata": {},
   "outputs": [],
   "source": [
    "X = CV.fit_transform(lemmatized_words)"
   ]
  },
  {
   "cell_type": "code",
   "execution_count": 47,
   "id": "24baaa04",
   "metadata": {},
   "outputs": [
    {
     "data": {
      "text/plain": [
       "{'ravish': 70,\n",
       " 'kumar': 49,\n",
       " 'born': 11,\n",
       " 'pandey': 61,\n",
       " 'december': 18,\n",
       " '197412': 1,\n",
       " 'indian': 43,\n",
       " 'journalist': 47,\n",
       " 'author': 4,\n",
       " 'medium': 56,\n",
       " 'personality': 64,\n",
       " 'youtuber34': 84,\n",
       " 'senior': 74,\n",
       " 'executive': 31,\n",
       " 'editor': 26,\n",
       " 'ndtv': 58,\n",
       " 'india': 42,\n",
       " 'hosted': 39,\n",
       " 'number': 59,\n",
       " 'programme': 67,\n",
       " 'including': 41,\n",
       " 'channel': 13,\n",
       " 'flagship': 33,\n",
       " 'weekday': 81,\n",
       " 'show': 75,\n",
       " 'prime': 66,\n",
       " 'time': 77,\n",
       " 'hum': 40,\n",
       " 'log': 52,\n",
       " 'ki': 48,\n",
       " 'report': 72,\n",
       " 'de': 17,\n",
       " 'baat567': 6,\n",
       " 'twice': 78,\n",
       " 'conferred': 16,\n",
       " 'ramnath': 68,\n",
       " 'goenka': 34,\n",
       " 'excellence': 30,\n",
       " 'journalism': 46,\n",
       " 'award': 5,\n",
       " 'best': 9,\n",
       " 'year': 83,\n",
       " 'became': 8,\n",
       " 'fifth': 32,\n",
       " 'receive': 71,\n",
       " 'ramon': 69,\n",
       " 'magsaysay': 54,\n",
       " '201989': 2,\n",
       " 'early': 24,\n",
       " 'life': 51,\n",
       " 'education': 27,\n",
       " '1974': 0,\n",
       " 'jitwarpur': 45,\n",
       " 'village': 80,\n",
       " 'east': 25,\n",
       " 'champaran': 12,\n",
       " 'district': 23,\n",
       " 'bihar1011': 10,\n",
       " 'baliram': 7,\n",
       " 'yashoda': 82,\n",
       " 'pandey12': 62,\n",
       " 'obtained': 60,\n",
       " 'high': 36,\n",
       " 'school': 73,\n",
       " 'loyola': 53,\n",
       " 'patna': 63,\n",
       " 'later': 50,\n",
       " 'moved': 57,\n",
       " 'delhi': 19,\n",
       " 'higher': 37,\n",
       " 'study': 76,\n",
       " 'graduated': 35,\n",
       " 'deshbandhu': 21,\n",
       " 'college': 14,\n",
       " 'affiliated': 3,\n",
       " 'university': 79,\n",
       " 'delhi12': 20,\n",
       " 'eventually': 29,\n",
       " 'enrolled': 28,\n",
       " 'postgraduate': 65,\n",
       " 'diploma': 22,\n",
       " 'hindi': 38,\n",
       " 'institute': 44,\n",
       " 'mass': 55,\n",
       " 'communication1213': 15}"
      ]
     },
     "execution_count": 47,
     "metadata": {},
     "output_type": "execute_result"
    }
   ],
   "source": [
    "CV.vocabulary_"
   ]
  },
  {
   "cell_type": "code",
   "execution_count": 48,
   "id": "15f01d31",
   "metadata": {},
   "outputs": [
    {
     "data": {
      "text/plain": [
       "'medium'"
      ]
     },
     "execution_count": 48,
     "metadata": {},
     "output_type": "execute_result"
    }
   ],
   "source": [
    "lemmatized_words[12]"
   ]
  },
  {
   "cell_type": "code",
   "execution_count": 49,
   "id": "eafaa89e",
   "metadata": {},
   "outputs": [
    {
     "data": {
      "text/plain": [
       "array([[0, 0, 0, 0, 0, 0, 0, 0, 0, 0, 0, 0, 0, 0, 0, 0, 0, 0, 0, 0, 0, 0,\n",
       "        0, 0, 0, 0, 0, 0, 0, 0, 0, 0, 0, 0, 0, 0, 0, 0, 0, 0, 0, 0, 0, 0,\n",
       "        0, 0, 0, 0, 0, 0, 0, 0, 0, 0, 0, 0, 0, 0, 0, 0, 0, 0, 0, 0, 0, 0,\n",
       "        0, 1, 0, 0, 0, 0, 0, 0, 0, 0, 0, 0, 0, 0, 0, 0, 0, 0, 0]],\n",
       "      dtype=int64)"
      ]
     },
     "execution_count": 49,
     "metadata": {},
     "output_type": "execute_result"
    }
   ],
   "source": [
    "X[22].toarray()"
   ]
  },
  {
   "cell_type": "code",
   "execution_count": null,
   "id": "366f7835",
   "metadata": {},
   "outputs": [],
   "source": []
  }
 ],
 "metadata": {
  "kernelspec": {
   "display_name": "Python 3 (ipykernel)",
   "language": "python",
   "name": "python3"
  },
  "language_info": {
   "codemirror_mode": {
    "name": "ipython",
    "version": 3
   },
   "file_extension": ".py",
   "mimetype": "text/x-python",
   "name": "python",
   "nbconvert_exporter": "python",
   "pygments_lexer": "ipython3",
   "version": "3.11.5"
  }
 },
 "nbformat": 4,
 "nbformat_minor": 5
}
