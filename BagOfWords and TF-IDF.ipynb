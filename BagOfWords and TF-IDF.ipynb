{
 "cells": [
  {
   "cell_type": "code",
   "execution_count": 1,
   "id": "bbb43c42",
   "metadata": {},
   "outputs": [],
   "source": [
    "#What is Bag of Words\n"
   ]
  },
  {
   "cell_type": "code",
   "execution_count": 2,
   "id": "aca277b0",
   "metadata": {},
   "outputs": [],
   "source": [
    "from sklearn.feature_extraction.text import CountVectorizer"
   ]
  },
  {
   "cell_type": "code",
   "execution_count": 3,
   "id": "e919dcab",
   "metadata": {},
   "outputs": [],
   "source": [
    "documents = [\n",
    "    \"The dog is an animal of faith and trust who never is disloyal to its owner\"\n",
    "]"
   ]
  },
  {
   "cell_type": "code",
   "execution_count": 4,
   "id": "0d46ff4d",
   "metadata": {},
   "outputs": [],
   "source": [
    "vectorizer = CountVectorizer()"
   ]
  },
  {
   "cell_type": "code",
   "execution_count": 5,
   "id": "12829e49",
   "metadata": {},
   "outputs": [],
   "source": [
    "X= vectorizer.fit_transform(documents)"
   ]
  },
  {
   "cell_type": "code",
   "execution_count": 6,
   "id": "63754dbb",
   "metadata": {},
   "outputs": [],
   "source": [
    "names = vectorizer.get_feature_names_out()"
   ]
  },
  {
   "cell_type": "code",
   "execution_count": 7,
   "id": "d80b4b19",
   "metadata": {},
   "outputs": [
    {
     "data": {
      "text/plain": [
       "array(['an', 'and', 'animal', 'disloyal', 'dog', 'faith', 'is', 'its',\n",
       "       'never', 'of', 'owner', 'the', 'to', 'trust', 'who'], dtype=object)"
      ]
     },
     "execution_count": 7,
     "metadata": {},
     "output_type": "execute_result"
    }
   ],
   "source": [
    "names"
   ]
  },
  {
   "cell_type": "code",
   "execution_count": 10,
   "id": "c3a4710d",
   "metadata": {},
   "outputs": [
    {
     "name": "stdout",
     "output_type": "stream",
     "text": [
      "[[1 1 1 1 1 1 2 1 1 1 1 1 1 1 1]]\n",
      "['an' 'and' 'animal' 'disloyal' 'dog' 'faith' 'is' 'its' 'never' 'of'\n",
      " 'owner' 'the' 'to' 'trust' 'who']\n"
     ]
    }
   ],
   "source": [
    "print(X.toarray())\n",
    "print(names)"
   ]
  },
  {
   "cell_type": "code",
   "execution_count": 12,
   "id": "511e8d55",
   "metadata": {},
   "outputs": [
    {
     "name": "stdout",
     "output_type": "stream",
     "text": [
      "[[1 1 1 1 1 1 2 1 1 1 1 1 1 1 1]]\n",
      "['an' 'and' 'animal' 'disloyal' 'dog' 'faith' 'is' 'its' 'never' 'of'\n",
      " 'owner' 'the' 'to' 'trust' 'who']\n"
     ]
    }
   ],
   "source": [
    "#hyperParameter tuning\n",
    "CountVectorizer(max_features=20,\n",
    "               stop_words='english',\n",
    "               ngram_range=(1,2))\n",
    "X= vectorizer.fit_transform(documents)\n",
    "names = vectorizer.get_feature_names_out()\n",
    "print(X.toarray())\n",
    "print(names)"
   ]
  },
  {
   "cell_type": "markdown",
   "id": "be5eef43",
   "metadata": {},
   "source": [
    "# TF-IDF\n"
   ]
  },
  {
   "cell_type": "code",
   "execution_count": 13,
   "id": "eedc0cc4",
   "metadata": {},
   "outputs": [],
   "source": [
    "from sklearn.feature_extraction.text import TfidfVectorizer"
   ]
  },
  {
   "cell_type": "code",
   "execution_count": 14,
   "id": "b7b7b255",
   "metadata": {},
   "outputs": [],
   "source": [
    "documents =documents = [\n",
    "    \"The dog is an animal of faith and trust who never is disloyal to its owner\"\n",
    "]"
   ]
  },
  {
   "cell_type": "code",
   "execution_count": 15,
   "id": "fde0ac3c",
   "metadata": {},
   "outputs": [],
   "source": [
    "vectorizer = TfidfVectorizer()"
   ]
  },
  {
   "cell_type": "code",
   "execution_count": 17,
   "id": "0177edd9",
   "metadata": {},
   "outputs": [],
   "source": [
    "X = vectorizer.fit_transform(documents)"
   ]
  },
  {
   "cell_type": "code",
   "execution_count": 18,
   "id": "c39a84c7",
   "metadata": {},
   "outputs": [],
   "source": [
    "feature_names = vectorizer.get_feature_names_out()"
   ]
  },
  {
   "cell_type": "code",
   "execution_count": 19,
   "id": "f97c1b54",
   "metadata": {},
   "outputs": [
    {
     "name": "stdout",
     "output_type": "stream",
     "text": [
      "['an' 'and' 'animal' 'disloyal' 'dog' 'faith' 'is' 'its' 'never' 'of'\n",
      " 'owner' 'the' 'to' 'trust' 'who']\n",
      "[[0.23570226 0.23570226 0.23570226 0.23570226 0.23570226 0.23570226\n",
      "  0.47140452 0.23570226 0.23570226 0.23570226 0.23570226 0.23570226\n",
      "  0.23570226 0.23570226 0.23570226]]\n"
     ]
    }
   ],
   "source": [
    "print(feature_names)\n",
    "print(X.toarray())"
   ]
  },
  {
   "cell_type": "code",
   "execution_count": null,
   "id": "95b0bb11",
   "metadata": {},
   "outputs": [],
   "source": []
  }
 ],
 "metadata": {
  "kernelspec": {
   "display_name": "Python 3 (ipykernel)",
   "language": "python",
   "name": "python3"
  },
  "language_info": {
   "codemirror_mode": {
    "name": "ipython",
    "version": 3
   },
   "file_extension": ".py",
   "mimetype": "text/x-python",
   "name": "python",
   "nbconvert_exporter": "python",
   "pygments_lexer": "ipython3",
   "version": "3.11.5"
  }
 },
 "nbformat": 4,
 "nbformat_minor": 5
}
